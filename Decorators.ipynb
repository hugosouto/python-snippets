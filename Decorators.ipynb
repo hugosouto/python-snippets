{
 "cells": [
  {
   "attachments": {},
   "cell_type": "markdown",
   "metadata": {},
   "source": [
    "Decorator Snippets"
   ]
  },
  {
   "cell_type": "code",
   "execution_count": 4,
   "metadata": {},
   "outputs": [
    {
     "name": "stdout",
     "output_type": "stream",
     "text": [
      "[main] Total execution time: 0.1800854206085205\n"
     ]
    }
   ],
   "source": [
    "# This code calculates the total execution time of the main() function.\n",
    "# main() is a function that counts from 0 to 10,000,000.\n",
    "\n",
    "# Import the time module so that we can use time.time() to track the current time\n",
    "import time\n",
    "\n",
    "# Create a function that will be used as a decorator\n",
    "def calculate_duration(func):\n",
    "    # Create a wrapper function that will calculate and print out the total execution time\n",
    "    def wrapper():\n",
    "        # Record the start time\n",
    "        start = time.time()\n",
    "        # Call the decorated function\n",
    "        func()\n",
    "        # Record the end time\n",
    "        end = time.time()\n",
    "\n",
    "        # Print out the total execution time\n",
    "        print(\"[{func}] Total execution time: {total_time}\".format(\n",
    "            func=func.__name__,\n",
    "            total_time=str(end - start))\n",
    "        )\n",
    "\n",
    "    # Return the wrapper function\n",
    "    return wrapper\n",
    "\n",
    "# Decorate the main() function\n",
    "@calculate_duration\n",
    "def main():\n",
    "    # Count from 0 to 10,000,000\n",
    "    for n in range(0, 10000000):\n",
    "        pass\n",
    "\n",
    "# Call the decorated function\n",
    "main()"
   ]
  }
 ],
 "metadata": {
  "kernelspec": {
   "display_name": "Python 3",
   "language": "python",
   "name": "python3"
  },
  "language_info": {
   "codemirror_mode": {
    "name": "ipython",
    "version": 3
   },
   "file_extension": ".py",
   "mimetype": "text/x-python",
   "name": "python",
   "nbconvert_exporter": "python",
   "pygments_lexer": "ipython3",
   "version": "3.11.3"
  },
  "orig_nbformat": 4
 },
 "nbformat": 4,
 "nbformat_minor": 2
}
